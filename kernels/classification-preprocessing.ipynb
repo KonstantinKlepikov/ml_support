{
 "cells": [
  {
   "cell_type": "code",
   "execution_count": null,
   "metadata": {},
   "outputs": [],
   "source": [
    "#main\n",
    "\n",
    "import numpy as np\n",
    "import pandas as pd\n",
    "import scipy as sp\n",
    "import os\n",
    "import sys\n",
    "import shelve \n",
    "import string\n",
    "import time\n",
    "import datetime\n",
    "import re"
   ]
  },
  {
   "cell_type": "code",
   "execution_count": null,
   "metadata": {},
   "outputs": [],
   "source": [
    "# support\n",
    "\n",
    "import corelib\n",
    "\n",
    "# csv to pd loader\n",
    "from corelib.data_prep import loader\n",
    "\n",
    "# reduce memory usage for pd-index\n",
    "from corelib.data_prep import reduce_mem_usage\n",
    "from corelib.data_prep import reduce_obj_mem_usage\n",
    "\n",
    "# searching for unical ordered values\n",
    "from corelib.data_prep import search_func\n",
    "\n",
    "#dump data with shelve\n",
    "from corelib.data_dump import shelve_dump"
   ]
  },
  {
   "cell_type": "code",
   "execution_count": null,
   "metadata": {},
   "outputs": [],
   "source": [
    "#variables\n",
    "\n",
    "#defolt data, \n",
    "#DATA_PATH = os.path.realpath('../input')\n",
    "#DUMP_PATH = os.path.realpath('../kernels/loaded_data')\n",
    "\n",
    "df_train, df_test = None, None\n",
    "DUMP_DICT = {\"df_train\": df_train, \"df_test\": df_test}"
   ]
  },
  {
   "cell_type": "markdown",
   "metadata": {},
   "source": [
    "### dump from this point"
   ]
  },
  {
   "cell_type": "code",
   "execution_count": null,
   "metadata": {},
   "outputs": [],
   "source": [
    "data = loader(index_col='family_id', dtype={'assigned_day': np.float64})\n",
    "# data = loader()\n",
    "data.keys()"
   ]
  },
  {
   "cell_type": "code",
   "execution_count": null,
   "metadata": {},
   "outputs": [],
   "source": [
    "data['samplezip']"
   ]
  },
  {
   "cell_type": "code",
   "execution_count": null,
   "metadata": {},
   "outputs": [],
   "source": [
    "df_train, df_test = data.values()\n",
    "del data"
   ]
  },
  {
   "cell_type": "code",
   "execution_count": null,
   "metadata": {},
   "outputs": [],
   "source": [
    "# reduce memory usage\n",
    "df_train = reduce_mem_usage(df_train)\n",
    "df_test = reduce_mem_usage(df_test)"
   ]
  },
  {
   "cell_type": "code",
   "execution_count": null,
   "metadata": {},
   "outputs": [],
   "source": [
    "# Dump loaded and prepared data\n",
    "shelve_dump(DUMP_DICT, DUMP_PATH, task='s')"
   ]
  },
  {
   "cell_type": "markdown",
   "metadata": {},
   "source": [
    "### to this point"
   ]
  },
  {
   "cell_type": "code",
   "execution_count": null,
   "metadata": {},
   "outputs": [],
   "source": [
    "# Dump open (prepared dataset)\n",
    "shelve_dump(DUMP_DICT, DUMP_PATH, task='o')"
   ]
  }
 ],
 "metadata": {
  "kernelspec": {
   "display_name": "Python 3",
   "language": "python",
   "name": "python3"
  },
  "language_info": {
   "codemirror_mode": {
    "name": "ipython",
    "version": 3
   },
   "file_extension": ".py",
   "mimetype": "text/x-python",
   "name": "python",
   "nbconvert_exporter": "python",
   "pygments_lexer": "ipython3",
   "version": "3.7.2"
  }
 },
 "nbformat": 4,
 "nbformat_minor": 2
}
