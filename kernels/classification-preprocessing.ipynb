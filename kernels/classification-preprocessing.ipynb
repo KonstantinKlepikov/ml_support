{
 "cells": [
  {
   "cell_type": "code",
   "execution_count": 1,
   "metadata": {},
   "outputs": [],
   "source": [
    "#main\n",
    "import numpy as np\n",
    "import pandas as pd"
   ]
  },
  {
   "cell_type": "code",
   "execution_count": 2,
   "metadata": {},
   "outputs": [],
   "source": [
    "# support\n",
    "import corelib\n",
    "\n",
    "# csv to pd loader\n",
    "from corelib.data_loader import loader\n",
    "\n",
    "# reduce memory usage for pd-index\n",
    "from corelib.data_prep import reduce_mem_usage\n",
    "from corelib.data_prep import reduce_obj_mem_usage\n",
    "\n",
    "# searching for unical ordered values\n",
    "from corelib.data_prep import search_func\n",
    "\n",
    "#dump data with\n",
    "from corelib.data_dump import dumper"
   ]
  },
  {
   "cell_type": "markdown",
   "metadata": {},
   "source": [
    "### dump from this point"
   ]
  },
  {
   "cell_type": "code",
   "execution_count": null,
   "metadata": {},
   "outputs": [],
   "source": [
    "print(loader.__doc__)"
   ]
  },
  {
   "cell_type": "code",
   "execution_count": 3,
   "metadata": {},
   "outputs": [
    {
     "name": "stdout",
     "output_type": "stream",
     "text": [
      "anydata.csv ..... C:\\xampp\\htdocs\\_uroki_\\python-learning\\ml_support\\input\\notempty\\anydata.csv\n",
      "most_deeped.txt ..... C:\\xampp\\htdocs\\_uroki_\\python-learning\\ml_support\\input\\notempty\\notempty_deeper\\most_deeped.txt\n",
      "sample.csv ..... C:\\xampp\\htdocs\\_uroki_\\python-learning\\ml_support\\input\\sample.csv\n",
      "samplezip.zip ..... C:\\xampp\\htdocs\\_uroki_\\python-learning\\ml_support\\input\\samplezip.zip\n"
     ]
    }
   ],
   "source": [
    "loader(mode='tree')"
   ]
  },
  {
   "cell_type": "code",
   "execution_count": 4,
   "metadata": {},
   "outputs": [
    {
     "name": "stdout",
     "output_type": "stream",
     "text": [
      "First five lines of viewed files:\n",
      "\n",
      "anydata.csv\n",
      "-----\n",
      "installation_id,event_id,game_session,timestamp,event_data,event_count,event_code,game_time,title,type,world\n",
      "0001e90f,27253bdc,45bb1e1b6b50c07b,2019-09-06T17:53:46.937Z,\"{\"\"event_code\"\": 2000, \"\"event_count\"\": 1}\",1,2000,0,Welcome to Lost Lagoon!,Clip,NONE\n",
      "0001e90f,27253bdc,17eeb7f223665f53,2019-09-06T17:54:17.519Z,\"{\"\"event_code\"\": 2000, \"\"event_count\"\": 1}\",1,2000,0,Magma Peak - Level 1,Clip,MAGMAPEAK\n",
      "0001e90f,77261ab5,0848ef14a8dc6892,2019-09-06T17:54:56.302Z,\"{\"\"version\"\":\"\"1.0\"\",\"\"event_count\"\":1,\"\"game_time\"\":0,\"\"event_code\"\":2000}\",1,2000,0,Sandcastle Builder (Activity),Activity,MAGMAPEAK\n",
      "0001e90f,b2dba42b,0848ef14a8dc6892,2019-09-06T17:54:56.387Z,\"{\"\"description\"\":\"\"Let's build a sandcastle! First, fill up your mold with sand! You can use the shovel here. The mold gives the sand its shape!\"\",\"\"identifier\"\":\"\"Dot_LetsSandcastle,Dot_FillMold,Dot_MoldShape\"\",\"\"media_type\"\":\"\"audio\"\",\"\"total_duration\"\":6758,\"\"event_count\"\":2,\"\"game_time\"\":53,\"\"event_code\"\":3010}\",2,3010,53,Sandcastle Builder (Activity),Activity,MAGMAPEAK\n",
      "0001e90f,1bb5fbdb,0848ef14a8dc6892,2019-09-06T17:55:03.253Z,\"{\"\"description\"\":\"\"Let's build a sandcastle! First, fill up your mold with sand! You can use the shovel here. The mold gives the sand its shape!\"\",\"\"identifier\"\":\"\"Dot_LetsSandcastle,Dot_FillMold,Dot_MoldShape\"\",\"\"media_type\"\":\"\"audio\"\",\"\"duration\"\":6919,\"\"event_count\"\":3,\"\"game_time\"\":6972,\"\"event_code\"\":3110}\",3,3110,6972,Sandcastle Builder (Activity),Activity,MAGMAPEAK\n",
      "\n",
      "sample.csv\n",
      "-----\n",
      "family_id,assigned_day\n",
      "0,100\n",
      "1,99\n",
      "2,98\n",
      "3,97\n",
      "4,96\n",
      "\n",
      "samplezip.zip\n",
      "-----\n",
      "family_id,assigned_day\n",
      "0,100\n",
      "1,99\n",
      "2,98\n",
      "3,97\n",
      "4,96\n",
      "\n"
     ]
    }
   ],
   "source": [
    "loader(mode='view')"
   ]
  },
  {
   "cell_type": "code",
   "execution_count": null,
   "metadata": {},
   "outputs": [],
   "source": [
    "data = loader(mode='extract')"
   ]
  },
  {
   "cell_type": "code",
   "execution_count": null,
   "metadata": {},
   "outputs": [],
   "source": [
    "data_seq1 = loader(mode='extract', data_for_load={'sample.csv':{}})"
   ]
  },
  {
   "cell_type": "code",
   "execution_count": null,
   "metadata": {},
   "outputs": [],
   "source": [
    "data_for_load = {'samplezip.zip': \n",
    "                 {'index_col': 'family_id', \n",
    "                  'dtype': {'assigned_day': np.float64}},\n",
    "                'anydata.csv':\n",
    "                {'parse_dates': ['timestamp']}}\n",
    "data_seq2 = loader(mode='extract', data_for_load=data_for_load)"
   ]
  },
  {
   "cell_type": "code",
   "execution_count": null,
   "metadata": {},
   "outputs": [],
   "source": [
    "data_seq2['anydata.csv'].head(1)"
   ]
  },
  {
   "cell_type": "code",
   "execution_count": null,
   "metadata": {},
   "outputs": [],
   "source": [
    "df_train, df_test = data.values()\n",
    "del data"
   ]
  },
  {
   "cell_type": "code",
   "execution_count": null,
   "metadata": {},
   "outputs": [],
   "source": [
    "# reduce memory usage\n",
    "df_train = reduce_mem_usage(df_train)\n",
    "df_test = reduce_mem_usage(df_test)"
   ]
  },
  {
   "cell_type": "code",
   "execution_count": null,
   "metadata": {},
   "outputs": [],
   "source": [
    "data = df_train, df_test"
   ]
  },
  {
   "cell_type": "code",
   "execution_count": null,
   "metadata": {},
   "outputs": [],
   "source": [
    "# Dump loaded and prepared data\n",
    "dumper(dump_list=data, path='loaded_data', method='shelve', task='s')"
   ]
  },
  {
   "cell_type": "markdown",
   "metadata": {},
   "source": [
    "### to this point"
   ]
  },
  {
   "cell_type": "code",
   "execution_count": null,
   "metadata": {},
   "outputs": [],
   "source": [
    "# Dump open (prepared dataset)\n",
    "df_train, df_test = dumper(path='loaded_data', method='shelve', task='o')"
   ]
  },
  {
   "cell_type": "code",
   "execution_count": null,
   "metadata": {},
   "outputs": [],
   "source": []
  }
 ],
 "metadata": {
  "kernelspec": {
   "display_name": "Python 3",
   "language": "python",
   "name": "python3"
  },
  "language_info": {
   "codemirror_mode": {
    "name": "ipython",
    "version": 3
   },
   "file_extension": ".py",
   "mimetype": "text/x-python",
   "name": "python",
   "nbconvert_exporter": "python",
   "pygments_lexer": "ipython3",
   "version": "3.7.2"
  },
  "varInspector": {
   "cols": {
    "lenName": 16,
    "lenType": 16,
    "lenVar": 40
   },
   "kernels_config": {
    "python": {
     "delete_cmd_postfix": "",
     "delete_cmd_prefix": "del ",
     "library": "var_list.py",
     "varRefreshCmd": "print(var_dic_list())"
    },
    "r": {
     "delete_cmd_postfix": ") ",
     "delete_cmd_prefix": "rm(",
     "library": "var_list.r",
     "varRefreshCmd": "cat(var_dic_list()) "
    }
   },
   "types_to_exclude": [
    "module",
    "function",
    "builtin_function_or_method",
    "instance",
    "_Feature"
   ],
   "window_display": false
  }
 },
 "nbformat": 4,
 "nbformat_minor": 2
}
