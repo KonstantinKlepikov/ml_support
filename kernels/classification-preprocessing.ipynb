{
 "cells": [
  {
   "cell_type": "code",
   "execution_count": null,
   "metadata": {},
   "outputs": [],
   "source": [
    "import numpy as np\n",
    "import pandas as pd\n",
    "import scipy as sp\n",
    "import matplotlib.pyplot as plt\n",
    "\n",
    "%matplotlib inline\n",
    "import matplotlib as mpl\n",
    "import matplotlib.pyplot as plt\n",
    "mpl.rc('axes', labelsize=14)\n",
    "mpl.rc('xtick', labelsize=12)\n",
    "mpl.rc('ytick', labelsize=12)\n",
    "\n",
    "import os, sys, shelve"
   ]
  },
  {
   "cell_type": "code",
   "execution_count": null,
   "metadata": {},
   "outputs": [],
   "source": [
    "from sklearn.model_selection import train_test_split, cross_val_score, learning_curve, GridSearchCV, ShuffleSplit\n",
    "from sklearn.preprocessing import StandardScaler, Normalizer, FunctionTransformer, PolynomialFeatures\n",
    "from sklearn.pipeline import Pipeline\n",
    "from sklearn.impute import SimpleImputer\n",
    "from sklearn.metrics import roc_auc_score"
   ]
  },
  {
   "cell_type": "code",
   "execution_count": null,
   "metadata": {},
   "outputs": [],
   "source": [
    "def val_error(model, tested, prediction):\n",
    "    \"\"\"\n",
    "    Look a roc_auc score betwin train and validation data\n",
    "    \n",
    "    Parameters\n",
    "    ----------\n",
    "    model: object\n",
    "        Trained estimator\n",
    "    \n",
    "    tested: array-like, shape (n_samples, n_features)\n",
    "        Data, prepaired as tested data\n",
    "    \n",
    "    tested: array-like, shape (n_samples)\n",
    "        Data, prepaired as tested labels\n",
    "    \"\"\"\n",
    "    y_pred = model.predict(tested)\n",
    "    err = roc_auc_score(prediction, y_pred)\n",
    "    return err"
   ]
  },
  {
   "cell_type": "code",
   "execution_count": null,
   "metadata": {},
   "outputs": [],
   "source": [
    "# data-loader\n",
    "from zipfile import ZipFile\n",
    "def loader(path, index_col=False):\n",
    "    \"\"\"\n",
    "    Unpack kaggle zip-data, then return dict of pd.data\n",
    "    \n",
    "    Parameters\n",
    "    ----------\n",
    "    path: current path to folder with data\n",
    "        String\n",
    "    \n",
    "    index_col: Column to use as the row labels of the DataFrame, either given as string name or column index.  \n",
    "    If a sequence of int / str is given, a MultiIndex is used.\n",
    "    Note: index_col=False can be used to force pandas to not use the first column as the index, e.g. when \n",
    "    you have a malformed file with delimiters at the end of each line. \n",
    "        int, str, sequence of int / str, or False, default None\n",
    "\n",
    "    \"\"\"\n",
    "    data_dict = {}\n",
    "    for i in os.listdir(path):\n",
    "        if os.path.splitext(os.path.join(path, i))[1] == \".zip\":\n",
    "            with ZipFile(os.path.join(path, i), 'r') as g:\n",
    "                file_list = g.namelist()\n",
    "                for file_name in file_list:\n",
    "                    if file_name.endswith('.csv'):\n",
    "                        with g.open(file_name) as h:\n",
    "                            filename = os.path.splitext(file_name)[0]\n",
    "                            data_dict[filename] = pd.read_csv(h, index_col=index_col)\n",
    "        elif os.path.splitext(os.path.join(path, i))[1] == \".csv\":\n",
    "            with open(os.path.join(path, i), 'r') as g:\n",
    "                filename = os.path.splitext(i)[0]\n",
    "                data_dict[filename] = pd.read_csv(g, index_col=index_col)            \n",
    "    return data_dict"
   ]
  },
  {
   "cell_type": "code",
   "execution_count": null,
   "metadata": {},
   "outputs": [],
   "source": [
    "data = loader(os.path.realpath('../input'))\n",
    "data.keys()"
   ]
  },
  {
   "cell_type": "code",
   "execution_count": null,
   "metadata": {},
   "outputs": [],
   "source": [
    "df_train_x, df_train_y, df_test_x, df_test_y = data.values()\n",
    "del data"
   ]
  },
  {
   "cell_type": "code",
   "execution_count": null,
   "metadata": {},
   "outputs": [],
   "source": [
    "# Dump loaded and prepared data\n",
    "with shelve.open(os.path.realpath('../kernels/loaded_data')) as s:\n",
    "    s[\"df_train_x\"] = df_train_x\n",
    "    s[\"df_test_x\"] = df_test_x\n",
    "    s[\"df_train_y\"] = df_train_y\n",
    "    s[\"df_test_y\"] = df_test_y"
   ]
  },
  {
   "cell_type": "code",
   "execution_count": null,
   "metadata": {},
   "outputs": [],
   "source": [
    "# preprocessing pipline\n",
    "pipePre = Pipeline([\n",
    "    ('simpleimputer', SimpleImputer(missing_values=np.nan, strategy='constant', fill_value=0)),\n",
    "    ('standardscaler', StandardScaler()),\n",
    "    ('normalizer', Normalizer())\n",
    "     ])"
   ]
  },
  {
   "cell_type": "code",
   "execution_count": null,
   "metadata": {},
   "outputs": [],
   "source": [
    "df_train_x = pipePre.fit_transform(df_train_x)\n",
    "df_test_x = pipePre.fit_transform(df_test_x)\n",
    "del df_train_x\n",
    "del df_test_x"
   ]
  },
  {
   "cell_type": "code",
   "execution_count": null,
   "metadata": {},
   "outputs": [],
   "source": [
    "X_train, X_test, y_train, y_test = train_test_split(df_train_x, df_train_y, test_size = 0.25, random_state=42)\n",
    "N_train, _ = X_train.shape \n",
    "N_test,  _ = X_test.shape \n",
    "print(N_train, N_test)"
   ]
  }
 ],
 "metadata": {
  "kernelspec": {
   "display_name": "Python 3",
   "language": "python",
   "name": "python3"
  },
  "language_info": {
   "codemirror_mode": {
    "name": "ipython",
    "version": 3
   },
   "file_extension": ".py",
   "mimetype": "text/x-python",
   "name": "python",
   "nbconvert_exporter": "python",
   "pygments_lexer": "ipython3",
   "version": "3.7.2"
  }
 },
 "nbformat": 4,
 "nbformat_minor": 2
}
