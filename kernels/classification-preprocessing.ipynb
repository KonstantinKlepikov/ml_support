{
 "cells": [
  {
   "cell_type": "code",
   "execution_count": null,
   "metadata": {},
   "outputs": [],
   "source": [
    "#main\n",
    "import numpy as np\n",
    "import pandas as pd\n",
    "import time\n",
    "import datetime"
   ]
  },
  {
   "cell_type": "code",
   "execution_count": null,
   "metadata": {},
   "outputs": [],
   "source": [
    "# support\n",
    "import corelib\n",
    "\n",
    "# csv to pd loader\n",
    "from corelib.data_loader import loader\n",
    "\n",
    "# reduce memory usage for pd-index\n",
    "from corelib.data_prep import reduce_mem_usage\n",
    "from corelib.data_prep import reduce_obj_mem_usage\n",
    "\n",
    "# searching for unical ordered values\n",
    "from corelib.data_prep import search_func\n",
    "\n",
    "#dump data with\n",
    "from corelib.data_dump import dumper"
   ]
  },
  {
   "cell_type": "markdown",
   "metadata": {},
   "source": [
    "### dump from this point"
   ]
  },
  {
   "cell_type": "code",
   "execution_count": 22,
   "metadata": {},
   "outputs": [
    {
     "name": "stdout",
     "output_type": "stream",
     "text": [
      "{'.gitkeep': 'C:\\\\xampp\\\\htdocs\\\\_uroki_\\\\python-learning\\\\ml_support\\\\input\\\\.gitkeep', 'sample.csv': 'C:\\\\xampp\\\\htdocs\\\\_uroki_\\\\python-learning\\\\ml_support\\\\input\\\\sample.csv', 'samplezip.zip': 'C:\\\\xampp\\\\htdocs\\\\_uroki_\\\\python-learning\\\\ml_support\\\\input\\\\samplezip.zip', 'test_empty': {}, 'test_full': {'test_full': {'.gitkeep': 'C:\\\\xampp\\\\htdocs\\\\_uroki_\\\\python-learning\\\\ml_support\\\\input\\\\test_full\\\\.gitkeep', 'test_inside': {}}}}\n"
     ]
    }
   ],
   "source": [
    "import os\n",
    "\n",
    "path = '../input'\n",
    "\n",
    "def file_searcher(path):\n",
    "    names = os.listdir(os.path.realpath(path))\n",
    "    source_tree_dict = {}\n",
    "    for name in names:\n",
    "        fullname = os.path.join(os.path.realpath(path), name)\n",
    "        if os.path.isfile(fullname):\n",
    "            source_tree_dict[name] = fullname\n",
    "        elif os.path.isdir(fullname):\n",
    "            source_tree_dict_sub = {}\n",
    "            subpath = os.path.join(os.path.realpath(path), name)\n",
    "            if file_searcher(subpath):\n",
    "                source_tree_dict_sub[name] = file_searcher(subpath)            \n",
    "            source_tree_dict[name] = source_tree_dict_sub\n",
    "    return source_tree_dict\n",
    "                                \n",
    "print(file_searcher(path))"
   ]
  },
  {
   "cell_type": "code",
   "execution_count": null,
   "metadata": {},
   "outputs": [],
   "source": [
    "print(loader.__doc__)"
   ]
  },
  {
   "cell_type": "code",
   "execution_count": null,
   "metadata": {},
   "outputs": [],
   "source": [
    "loader(mode='view')"
   ]
  },
  {
   "cell_type": "code",
   "execution_count": null,
   "metadata": {},
   "outputs": [],
   "source": [
    "# data = loader(mode='extract', index_col='family_id', dtype={'assigned_day': np.float64})\n",
    "data = loader(mode='extract')\n",
    "data.keys()"
   ]
  },
  {
   "cell_type": "code",
   "execution_count": null,
   "metadata": {},
   "outputs": [],
   "source": [
    "df_train, df_test = data.values()\n",
    "del data"
   ]
  },
  {
   "cell_type": "code",
   "execution_count": null,
   "metadata": {},
   "outputs": [],
   "source": [
    "# reduce memory usage\n",
    "df_train = reduce_mem_usage(df_train)\n",
    "df_test = reduce_mem_usage(df_test)"
   ]
  },
  {
   "cell_type": "code",
   "execution_count": null,
   "metadata": {},
   "outputs": [],
   "source": [
    "data = df_train, df_test"
   ]
  },
  {
   "cell_type": "code",
   "execution_count": null,
   "metadata": {},
   "outputs": [],
   "source": [
    "# Dump loaded and prepared data\n",
    "dumper(dump_list=data, path='loaded_data', method='shelve', task='s')"
   ]
  },
  {
   "cell_type": "markdown",
   "metadata": {},
   "source": [
    "### to this point"
   ]
  },
  {
   "cell_type": "code",
   "execution_count": null,
   "metadata": {},
   "outputs": [],
   "source": [
    "# Dump open (prepared dataset)\n",
    "df_train, df_test = dumper(path='loaded_data', method='shelve', task='o')"
   ]
  },
  {
   "cell_type": "code",
   "execution_count": null,
   "metadata": {},
   "outputs": [],
   "source": []
  }
 ],
 "metadata": {
  "kernelspec": {
   "display_name": "Python 3",
   "language": "python",
   "name": "python3"
  },
  "language_info": {
   "codemirror_mode": {
    "name": "ipython",
    "version": 3
   },
   "file_extension": ".py",
   "mimetype": "text/x-python",
   "name": "python",
   "nbconvert_exporter": "python",
   "pygments_lexer": "ipython3",
   "version": "3.7.2"
  },
  "varInspector": {
   "cols": {
    "lenName": 16,
    "lenType": 16,
    "lenVar": 40
   },
   "kernels_config": {
    "python": {
     "delete_cmd_postfix": "",
     "delete_cmd_prefix": "del ",
     "library": "var_list.py",
     "varRefreshCmd": "print(var_dic_list())"
    },
    "r": {
     "delete_cmd_postfix": ") ",
     "delete_cmd_prefix": "rm(",
     "library": "var_list.r",
     "varRefreshCmd": "cat(var_dic_list()) "
    }
   },
   "types_to_exclude": [
    "module",
    "function",
    "builtin_function_or_method",
    "instance",
    "_Feature"
   ],
   "window_display": false
  }
 },
 "nbformat": 4,
 "nbformat_minor": 2
}
